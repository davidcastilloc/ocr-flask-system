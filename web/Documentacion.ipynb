{
 "cells": [
  {
   "cell_type": "markdown",
   "id": "7a7ffe96-3843-4366-96f9-7b640d667723",
   "metadata": {},
   "source": [
    "# Instalamos la libreria pytesseract"
   ]
  },
  {
   "cell_type": "code",
   "execution_count": null,
   "id": "da3f9d72-cb44-4399-b259-2efc99cc674d",
   "metadata": {
    "tags": []
   },
   "outputs": [],
   "source": [
    "%pip install pytesseract\n"
   ]
  },
  {
   "cell_type": "markdown",
   "id": "33e3da22-8ba5-449d-b742-2fc85967d6a3",
   "metadata": {},
   "source": [
    "# Ubicar la imagen de ejemplo de recibo\n"
   ]
  },
  {
   "cell_type": "markdown",
   "id": "a0dcee14-7369-4d03-922e-b099b3c64e4e",
   "metadata": {
    "tags": []
   },
   "source": [
    "![Texto crudo del recipe medico](./app/static/img/text2.jpg)\n"
   ]
  },
  {
   "cell_type": "code",
   "execution_count": null,
   "id": "2c07c2f1-aa87-47d6-8f0b-500930aa1309",
   "metadata": {
    "tags": []
   },
   "outputs": [],
   "source": [
    "import pytesseract"
   ]
  },
  {
   "cell_type": "code",
   "execution_count": null,
   "id": "39ed485e-181f-4038-9d61-40c465edd1ca",
   "metadata": {},
   "outputs": [],
   "source": [
    "custom_config = r'--oem 3 --psm 6 --user-words \"spa.user-words\"'\n",
    "raw_text = pytesseract.image_to_string(\"/code/app/static/img/text2.jpg\" , config=custom_config , lang='spa')\n",
    "print(raw_text)"
   ]
  },
  {
   "cell_type": "code",
   "execution_count": null,
   "id": "0bbccfe6-ee9c-4d3a-9d4a-87e4347c6629",
   "metadata": {},
   "outputs": [],
   "source": [
    "list_words = raw_text.lower().split(\"\\n\")\n",
    "print(list_words)"
   ]
  },
  {
   "cell_type": "code",
   "execution_count": null,
   "id": "334e9d60",
   "metadata": {},
   "outputs": [],
   "source": [
    "items_filtered = [item for item in list_words if len(item) >= 8]\n",
    "print(items_filtered)"
   ]
  },
  {
   "cell_type": "code",
   "execution_count": null,
   "id": "dc42c405",
   "metadata": {},
   "outputs": [],
   "source": [
    "#el texto crudo debe limpiarse. para eso metemos esta lib\n",
    "%pip install clean-text\n"
   ]
  },
  {
   "cell_type": "code",
   "execution_count": null,
   "metadata": {},
   "outputs": [],
   "source": [
    "from cleantext import clean\n",
    "cleaned_text = clean(raw_text, fix_unicode=True,               # fix various unicode errors\n",
    "    to_ascii=True,                  # transliterate to closest ASCII representation\n",
    "    lower=True,                     # lowercase text\n",
    "    no_line_breaks=False,           # fully strip line breaks as opposed to only normalizing them\n",
    "    no_urls=True,                  # replace all URLs with a special token\n",
    "    no_emails=True,                # replace all email addresses with a special token\n",
    "    no_phone_numbers=True,         # replace all phone numbers with a special token\n",
    "    no_numbers=True,               # replace all numbers with a special token\n",
    "    no_digits=True,                # replace all digits with a special token\n",
    "    no_currency_symbols=False,      # replace all currency symbols with a special token\n",
    "    no_punct=True,                 # remove punctuations\n",
    "    replace_with_punct=\"\",          # instead of removing punctuations you may replace them\n",
    "    replace_with_url=\"\",\n",
    "    replace_with_email=\"\",\n",
    "    replace_with_phone_number=\"\",\n",
    "    replace_with_number=\"\",\n",
    "    replace_with_digit=\"\",\n",
    "    replace_with_currency_symbol=\"<CUR>\",\n",
    "    lang=\"en\")\n",
    "print(cleaned_text.split(\"cant\")[-1].split(\"\\n\"))\n"
   ]
  },
  {
   "cell_type": "code",
   "execution_count": null,
   "id": "cf12b765",
   "metadata": {},
   "outputs": [],
   "source": [
    "# Initializing string \n",
    "import string\n",
    " \n",
    "# Using list comprehension and isalnum() method to extract words from string\n",
    "res = [word.strip(string.punctuation) for word in cleaned_text.split() if word.strip(string.punctuation).isalnum() and len(word) > 9]\n",
    "# Printing result\n",
    "print(list(set(res)))"
   ]
  },
  {
   "cell_type": "code",
   "execution_count": null,
   "id": "d35f0881",
   "metadata": {},
   "outputs": [],
   "source": [
    "# remove duplicated words\n",
    "res= list(set(res))\n",
    "res"
   ]
  },
  {
   "cell_type": "code",
   "execution_count": 6,
   "id": "7061ea42",
   "metadata": {},
   "outputs": [],
   "source": [
    "# Of current list only extract words of dicctionary\n",
    "def read_glosary_and_return_list(route_glosary = 'code/app/spa.user-words'):\n",
    "    with open(route_glosary) as f:\n",
    "        glosary = f.read()\n",
    "    return glosary.split(\"\\n\")\n",
    "\n",
    "glosary = read_glosary_and_return_list()"
   ]
  },
  {
   "cell_type": "code",
   "execution_count": null,
   "id": "5036a17c",
   "metadata": {},
   "outputs": [],
   "source": [
    "#Matches in glosary\n",
    "\n",
    "# The second parameter is the input iterable\n",
    "# The filter() applies the lambda to the iterable\n",
    "# and only returns all matches where the lambda evaluates\n",
    "# to true\n",
    "def return_word_if_matches_on_glosary(word):\n",
    "    return list(filter(lambda a: word in a, glosary))[-1] #return last match\n",
    "\n",
    "return_word_if_matches_on_glosary(\"azitromicina\")"
   ]
  },
  {
   "cell_type": "code",
   "execution_count": 20,
   "id": "cfbc9b45",
   "metadata": {},
   "outputs": [
    {
     "data": {
      "text/plain": [
       "{'a': ['tratamiento',\n",
       "  'anticoeilante',\n",
       "  'corrticoide',\n",
       "  'fibromialgia',\n",
       "  'aitrombotio',\n",
       "  'antiembolico'],\n",
       " 'b': ['antiembolico']}"
      ]
     },
     "execution_count": 20,
     "metadata": {},
     "output_type": "execute_result"
    }
   ],
   "source": [
    "import pytesseract\n",
    "from cleantext import clean\n",
    "import string\n",
    "\n",
    "class RecipeProcessor:\n",
    "    def __init__(self, route_glossary='/code/app/spa.user-words'):\n",
    "        self.route_glossary = route_glossary\n",
    "        self.glossary_words = self._read_glossary_and_return_list()\n",
    "\n",
    "    def _read_glossary_and_return_list(self):\n",
    "        with open(self.route_glossary) as f:\n",
    "            glossary = f.read()\n",
    "        return glossary.split(\"\\n\")\n",
    "\n",
    "    def extract_raw_text_from_recipe(self, route_img_recipe=\"code/app/static/uploads/test.png\"):\n",
    "        custom_config = r'--oem 3 --psm 6 --user-words \"spa.user-words\"'\n",
    "        raw_text = pytesseract.image_to_string(\n",
    "            route_img_recipe, lang='spa', config=custom_config)\n",
    "        return raw_text\n",
    "\n",
    "    def _clean_raw_text(self, raw_text):\n",
    "        return clean(raw_text, fix_unicode=True, to_ascii=True, lower=True)\n",
    "\n",
    "    def extract_words_from_cleaned_text_and_return_list(self, cleaned_text):\n",
    "        return [word.strip(string.punctuation) for word in cleaned_text.split() if word.strip(string.punctuation).isalnum() and len(word) > 9]\n",
    "\n",
    "    def _remove_duplicates_on_list(self, list_words):\n",
    "        return list(set(list_words))\n",
    "\n",
    "    def return_glossary_words(self, list_no_duplicated_items):\n",
    "        result = [word for word in list_no_duplicated_items if word in self.glossary_words]\n",
    "        return result\n",
    "\n",
    "    def process_recipe(self, route_uploaded_img_recipe=\"test.png\"):\n",
    "        raw_text = self.extract_raw_text_from_recipe( )\n",
    "        cleaned_text = self._clean_raw_text(raw_text)\n",
    "        words_extracted = self.extract_words_from_cleaned_text_and_return_list(cleaned_text)\n",
    "        list_no_duplicated_items = self._remove_duplicates_on_list(words_extracted)\n",
    "        only_glossary_words = self.return_glossary_words(list_no_duplicated_items)\n",
    "        return { 'kywords_extracted': list_no_duplicated_items, 'glosary_kywords': only_glossary_words }\n",
    "\n",
    "\n",
    "ocr = RecipeProcessor(route_glossary=\"code/app/spa.user-words\")\n",
    "raw_text = ocr.process_recipe()\n",
    "raw_text"
   ]
  }
 ],
 "metadata": {
  "kernelspec": {
   "display_name": "Python 3 (ipykernel)",
   "language": "python",
   "name": "python3"
  },
  "language_info": {
   "codemirror_mode": {
    "name": "ipython",
    "version": 3
   },
   "file_extension": ".py",
   "mimetype": "text/x-python",
   "name": "python",
   "nbconvert_exporter": "python",
   "pygments_lexer": "ipython3",
   "version": "3.9.17"
  },
  "toc-autonumbering": false,
  "toc-showcode": true,
  "toc-showmarkdowntxt": true
 },
 "nbformat": 4,
 "nbformat_minor": 5
}
