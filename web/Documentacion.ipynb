{
 "cells": [
  {
   "cell_type": "markdown",
   "id": "7a7ffe96-3843-4366-96f9-7b640d667723",
   "metadata": {},
   "source": [
    "# Instalamos la libreria pytesseract"
   ]
  },
  {
   "cell_type": "code",
   "execution_count": null,
   "id": "da3f9d72-cb44-4399-b259-2efc99cc674d",
   "metadata": {
    "tags": []
   },
   "outputs": [],
   "source": [
    "%pip install pytesseract\n"
   ]
  },
  {
   "cell_type": "markdown",
   "id": "33e3da22-8ba5-449d-b742-2fc85967d6a3",
   "metadata": {},
   "source": [
    "# Ubicar la imagen de ejemplo de recibo\n"
   ]
  },
  {
   "cell_type": "markdown",
   "id": "a0dcee14-7369-4d03-922e-b099b3c64e4e",
   "metadata": {
    "tags": []
   },
   "source": [
    "![Texto crudo del recipe medico](./app/static/img/text2.jpg)\n"
   ]
  },
  {
   "cell_type": "code",
   "execution_count": 2,
   "id": "2c07c2f1-aa87-47d6-8f0b-500930aa1309",
   "metadata": {
    "tags": []
   },
   "outputs": [],
   "source": [
    "import pytesseract"
   ]
  },
  {
   "cell_type": "code",
   "execution_count": 93,
   "id": "39ed485e-181f-4038-9d61-40c465edd1ca",
   "metadata": {},
   "outputs": [
    {
     "name": "stdout",
     "output_type": "stream",
     "text": [
      "No. DE ORDEN 87602 FECHAEMISION: 04/08/2023\n",
      "CAP Il HUANTA\n",
      "CEXT\n",
      "MEDICINA GENERAL FARMACIADEPOSITOS\n",
      "ASEGU.: EUAMAN QUISPE DIEGO SEBASTIAN EDAD: 17años 8mes Z4dias\n",
      "AUTOG.: 0511111HNQSDOOS HI/C: 7877\n",
      "ACTMED. 1248015 DOC.ID: D.N.I. 72887660 VIGENCIA: 03/09/23\n",
      "——]—r—bs——Ñ.]——]———] A 0/7\n",
      "o. CODIGO DENOMINACION DIAS UM CANT.\n",
      "* METOCLOPRAMIDA 10 MG 5  T8 15,00\n",
      "d: 1 TAS CADA $ HORAS X 5 DIAS\n",
      "\n",
      "* OMEPRAZOL 20 MG (LIBERACIÓN RETARDADA) 5 TB 10,00\n",
      "id: + TAB ANTES DEL D Y € X 5 DIAS\n",
      "\n",
      "EISMUTO SUBSALICILATO 87.33-87.50 MG/5 ML SUSPENSI 5 FR 1,00\n",
      "d: 15 ML CADA 86 HORAS X 5 DIAS\n",
      "\n",
      "MEDICO: 92323 ARBILDO MATHEWS GIANFRANCO\n",
      "\n",
      "FIRMA Y SELLO DEL MEDICO\n",
      "TODA ENMENDADURA O DETERIORO INVALIDA LA RECETA\n",
      "EL VIH NO DISCRIMINA, HAZTE LA PRUEBA\n",
      "SUARIO: 45815460  FEC.IMP: 04/08/23 Y 11:27:49\n",
      "\n"
     ]
    }
   ],
   "source": [
    "custom_config = r'--oem 3 --psm 6 --user-words \"spa.user-words\"'\n",
    "raw_text = pytesseract.image_to_string(\"/code/app/static/img/text2.jpg\" , config=custom_config , lang='spa')\n",
    "print(raw_text)"
   ]
  },
  {
   "cell_type": "code",
   "execution_count": 94,
   "id": "0bbccfe6-ee9c-4d3a-9d4a-87e4347c6629",
   "metadata": {},
   "outputs": [
    {
     "name": "stdout",
     "output_type": "stream",
     "text": [
      "['no. de orden 87602 fechaemision: 04/08/2023', 'cap il huanta', 'cext', 'medicina general farmaciadepositos', 'asegu.: euaman quispe diego sebastian edad: 17años 8mes z4dias', 'autog.: 0511111hnqsdoos hi/c: 7877', 'actmed. 1248015 doc.id: d.n.i. 72887660 vigencia: 03/09/23', '——]—r—bs——ñ.]——]———] a 0/7', 'o. codigo denominacion dias um cant.', '* metoclopramida 10 mg 5  t8 15,00', 'd: 1 tas cada $ horas x 5 dias', '', '* omeprazol 20 mg (liberación retardada) 5 tb 10,00', 'id: + tab antes del d y € x 5 dias', '', 'eismuto subsalicilato 87.33-87.50 mg/5 ml suspensi 5 fr 1,00', 'd: 15 ml cada 86 horas x 5 dias', '', 'medico: 92323 arbildo mathews gianfranco', '', 'firma y sello del medico', 'toda enmendadura o deterioro invalida la receta', 'el vih no discrimina, hazte la prueba', 'suario: 45815460  fec.imp: 04/08/23 y 11:27:49', '']\n"
     ]
    }
   ],
   "source": [
    "list_words = raw_text.lower().split(\"\\n\")\n",
    "print(list_words)"
   ]
  },
  {
   "cell_type": "code",
   "execution_count": 100,
   "id": "334e9d60",
   "metadata": {},
   "outputs": [
    {
     "name": "stdout",
     "output_type": "stream",
     "text": [
      "['no. de orden 87602 fechaemision: 04/08/2023', 'cap il huanta', 'medicina general farmaciadepositos', 'asegu.: euaman quispe diego sebastian edad: 17años 8mes z4dias', 'autog.: 0511111hnqsdoos hi/c: 7877', 'actmed. 1248015 doc.id: d.n.i. 72887660 vigencia: 03/09/23', '——]—r—bs——ñ.]——]———] a 0/7', 'o. codigo denominacion dias um cant.', '* metoclopramida 10 mg 5  t8 15,00', 'd: 1 tas cada $ horas x 5 dias', '* omeprazol 20 mg (liberación retardada) 5 tb 10,00', 'id: + tab antes del d y € x 5 dias', 'eismuto subsalicilato 87.33-87.50 mg/5 ml suspensi 5 fr 1,00', 'd: 15 ml cada 86 horas x 5 dias', 'medico: 92323 arbildo mathews gianfranco', 'firma y sello del medico', 'toda enmendadura o deterioro invalida la receta', 'el vih no discrimina, hazte la prueba', 'suario: 45815460  fec.imp: 04/08/23 y 11:27:49']\n"
     ]
    }
   ],
   "source": [
    "items_filtered = [item for item in list_words if len(item) >= 8]\n",
    "print(items_filtered)"
   ]
  },
  {
   "cell_type": "code",
   "execution_count": 96,
   "id": "dc42c405",
   "metadata": {},
   "outputs": [
    {
     "name": "stdout",
     "output_type": "stream",
     "text": [
      "Requirement already satisfied: clean-text in /usr/local/lib/python3.9/site-packages (0.6.0)\n",
      "Requirement already satisfied: emoji<2.0.0,>=1.0.0 in /usr/local/lib/python3.9/site-packages (from clean-text) (1.7.0)\n",
      "Requirement already satisfied: ftfy<7.0,>=6.0 in /usr/local/lib/python3.9/site-packages (from clean-text) (6.1.1)\n",
      "Requirement already satisfied: wcwidth>=0.2.5 in /root/.local/lib/python3.9/site-packages (from ftfy<7.0,>=6.0->clean-text) (0.2.6)\n",
      "\u001b[33mWARNING: Running pip as the 'root' user can result in broken permissions and conflicting behaviour with the system package manager. It is recommended to use a virtual environment instead: https://pip.pypa.io/warnings/venv\u001b[0m\u001b[33m\n",
      "\u001b[0m\n",
      "\u001b[1m[\u001b[0m\u001b[34;49mnotice\u001b[0m\u001b[1;39;49m]\u001b[0m\u001b[39;49m A new release of pip is available: \u001b[0m\u001b[31;49m23.0.1\u001b[0m\u001b[39;49m -> \u001b[0m\u001b[32;49m23.2.1\u001b[0m\n",
      "\u001b[1m[\u001b[0m\u001b[34;49mnotice\u001b[0m\u001b[1;39;49m]\u001b[0m\u001b[39;49m To update, run: \u001b[0m\u001b[32;49mpip install --upgrade pip\u001b[0m\n",
      "Note: you may need to restart the kernel to use updated packages.\n"
     ]
    }
   ],
   "source": [
    "#el texto crudo debe limpiarse. para eso metemos esta lib\n",
    "%pip install clean-text\n"
   ]
  },
  {
   "cell_type": "code",
   "execution_count": 110,
   "metadata": {},
   "outputs": [
    {
     "name": "stdout",
     "output_type": "stream",
     "text": [
      "['', 'metoclopramida mg t', 'd tas cada $ horas x dias', 'omeprazol mg liberacion retardada tb', 'id + tab antes del d y x dias', 'eismuto subsalicilato mg ml suspensi fr', 'd ml cada horas x dias', 'medico arbildo mathews gianfranco', 'firma y sello del medico', 'toda enmendadura o deterioro invalida la receta', 'el vih no discrimina hazte la prueba', 'suario fecimp y']\n"
     ]
    }
   ],
   "source": [
    "from cleantext import clean\n",
    "cleaned_text = clean(raw_text, fix_unicode=True,               # fix various unicode errors\n",
    "    to_ascii=True,                  # transliterate to closest ASCII representation\n",
    "    lower=True,                     # lowercase text\n",
    "    no_line_breaks=False,           # fully strip line breaks as opposed to only normalizing them\n",
    "    no_urls=True,                  # replace all URLs with a special token\n",
    "    no_emails=True,                # replace all email addresses with a special token\n",
    "    no_phone_numbers=True,         # replace all phone numbers with a special token\n",
    "    no_numbers=True,               # replace all numbers with a special token\n",
    "    no_digits=True,                # replace all digits with a special token\n",
    "    no_currency_symbols=False,      # replace all currency symbols with a special token\n",
    "    no_punct=True,                 # remove punctuations\n",
    "    replace_with_punct=\"\",          # instead of removing punctuations you may replace them\n",
    "    replace_with_url=\"\",\n",
    "    replace_with_email=\"\",\n",
    "    replace_with_phone_number=\"\",\n",
    "    replace_with_number=\"\",\n",
    "    replace_with_digit=\"\",\n",
    "    replace_with_currency_symbol=\"<CUR>\",\n",
    "    lang=\"en\")\n",
    "print(cleaned_text.split(\"cant\")[-1].split(\"\\n\"))\n"
   ]
  },
  {
   "cell_type": "code",
   "execution_count": 113,
   "id": "cf12b765",
   "metadata": {},
   "outputs": [
    {
     "name": "stdout",
     "output_type": "stream",
     "text": [
      "['fechaemision', 'farmaciadepositos', 'denominacion', 'metoclopramida', 'liberacion', 'subsalicilato', 'gianfranco', 'enmendadura', 'discrimina']\n"
     ]
    }
   ],
   "source": [
    "# Initializing string \n",
    "import string\n",
    " \n",
    "# Using list comprehension and isalnum() method to extract words from string\n",
    "res = [word.strip(string.punctuation) for word in cleaned_text.split() if word.strip(string.punctuation).isalnum() and len(word) > 9]\n",
    "# Printing result\n",
    "print(list(set(res)))"
   ]
  },
  {
   "cell_type": "code",
   "execution_count": 118,
   "id": "d35f0881",
   "metadata": {},
   "outputs": [
    {
     "data": {
      "text/plain": [
       "['discrimina',\n",
       " 'gianfranco',\n",
       " 'denominacion',\n",
       " 'metoclopramida',\n",
       " 'enmendadura',\n",
       " 'liberacion',\n",
       " 'fechaemision',\n",
       " 'subsalicilato',\n",
       " 'farmaciadepositos']"
      ]
     },
     "execution_count": 118,
     "metadata": {},
     "output_type": "execute_result"
    }
   ],
   "source": [
    "# remove duplicated words\n",
    "res= list(set(res))\n",
    "res"
   ]
  },
  {
   "cell_type": "code",
   "execution_count": 153,
   "id": "7061ea42",
   "metadata": {},
   "outputs": [
    {
     "data": {
      "text/plain": [
       "['antibiotico',\n",
       " 'anticuagulante',\n",
       " 'antiembolico',\n",
       " 'corticoide',\n",
       " 'supracal',\n",
       " 'azitromicina',\n",
       " 'omeprazol']"
      ]
     },
     "execution_count": 153,
     "metadata": {},
     "output_type": "execute_result"
    }
   ],
   "source": [
    "# Of current list only extract words of dicctionary\n",
    "def read_glosary(route_glosary = 'code/app/spa.user-words'):\n",
    "    with open(route_glosary) as f:\n",
    "        glosary = f.read()\n",
    "    return glosary.split(\"\\n\")\n",
    "\n",
    "glosary"
   ]
  },
  {
   "cell_type": "code",
   "execution_count": 158,
   "id": "5036a17c",
   "metadata": {},
   "outputs": [
    {
     "data": {
      "text/plain": [
       "'azitromicina'"
      ]
     },
     "execution_count": 158,
     "metadata": {},
     "output_type": "execute_result"
    }
   ],
   "source": [
    "#Matches in glosary\n",
    "\n",
    "# The second parameter is the input iterable\n",
    "# The filter() applies the lambda to the iterable\n",
    "# and only returns all matches where the lambda evaluates\n",
    "# to true\n",
    "def return_word_if_matches_on_glosary(word):\n",
    "    return list(filter(lambda a: word in a, glosary))[-1] #return last match\n",
    "\n",
    "return_word_if_matches_on_glosary(\"azitromicina\")"
   ]
  }
 ],
 "metadata": {
  "kernelspec": {
   "display_name": "Python 3 (ipykernel)",
   "language": "python",
   "name": "python3"
  },
  "language_info": {
   "codemirror_mode": {
    "name": "ipython",
    "version": 3
   },
   "file_extension": ".py",
   "mimetype": "text/x-python",
   "name": "python",
   "nbconvert_exporter": "python",
   "pygments_lexer": "ipython3",
   "version": "3.9.17"
  },
  "toc-autonumbering": false,
  "toc-showcode": true,
  "toc-showmarkdowntxt": true
 },
 "nbformat": 4,
 "nbformat_minor": 5
}
